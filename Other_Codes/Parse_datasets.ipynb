{
  "nbformat": 4,
  "nbformat_minor": 0,
  "metadata": {
    "colab": {
      "name": "Parse_datasets.ipynb",
      "provenance": []
    },
    "kernelspec": {
      "name": "python3",
      "display_name": "Python 3"
    },
    "language_info": {
      "name": "python"
    }
  },
  "cells": [
    {
      "cell_type": "markdown",
      "metadata": {
        "id": "Q0aFPoJS5wJ-"
      },
      "source": [
        "For GML Files"
      ]
    },
    {
      "cell_type": "code",
      "metadata": {
        "colab": {
          "base_uri": "https://localhost:8080/"
        },
        "id": "T5nSHDwVu2RG",
        "outputId": "2cc1d6f0-b0fa-4994-926f-7dec614ec082"
      },
      "source": [
        "import networkx as nx\n",
        "\n",
        "#Pending : give 1 based or 0 based indexing flag\n",
        "#Format : N = nodes , M = edges \n",
        "#N M\n",
        "#u1 v1\n",
        "#u2 v2\n",
        "#...\n",
        "#uM vM\n",
        "\n",
        "def parse_gml(filename , new_file_name) :\n",
        "  G = nx.read_gml(filename , label = 'id')\n",
        "\n",
        "  print(filename)\n",
        "  print(G)\n",
        "\n",
        "  file1 = open(new_file_name,\"a\")\n",
        "  file1.write(str(G.number_of_nodes()) + ' ' + str(G.number_of_edges()) + '\\n')\n",
        "\n",
        "  for ed in G.edges :\n",
        "    file1.write(str(ed[0]) +  ' ' + str(ed[1]) + '\\n')\n",
        "\n",
        "  file1.close()\n",
        "\n",
        "\n",
        "parse_gml('karate.gml' , 'karate.txt')\n",
        "parse_gml('dolphins.gml' , 'dolphins.txt')\n",
        "parse_gml('polbooks.gml' , 'copurchase_political_books.txt')\n",
        "parse_gml('power.gml' , 'power_grid.txt')\n",
        "parse_gml('Primary_school_contact_network.gml' , 'primary_school_contact.txt')\n",
        "parse_gml('netscience.gml' , 'coauthorship_netscience.txt')\n",
        "parse_gml('human-disease.gml' , 'diseasome.txt') #This particular file containts duplicated edges"
      ],
      "execution_count": 1,
      "outputs": [
        {
          "output_type": "stream",
          "name": "stdout",
          "text": [
            "karate.gml\n",
            "Graph with 34 nodes and 78 edges\n",
            "dolphins.gml\n",
            "Graph with 62 nodes and 159 edges\n",
            "polbooks.gml\n",
            "Graph with 105 nodes and 441 edges\n",
            "power.gml\n",
            "Graph with 4941 nodes and 6594 edges\n",
            "Primary_school_contact_network.gml\n",
            "Graph with 236 nodes and 5899 edges\n",
            "netscience.gml\n",
            "Graph with 1589 nodes and 2742 edges\n",
            "human-disease.gml\n",
            "MultiGraph with 516 nodes and 2376 edges\n"
          ]
        }
      ]
    },
    {
      "cell_type": "markdown",
      "metadata": {
        "id": "WLwjrFuP5yIN"
      },
      "source": [
        "For Protein Structure files : "
      ]
    },
    {
      "cell_type": "code",
      "metadata": {
        "colab": {
          "base_uri": "https://localhost:8080/"
        },
        "id": "-H-_dBLOy-xu",
        "outputId": "58320421-a4b1-4aa2-e1c8-2877ea25a2cb"
      },
      "source": [
        "def parse_txt(filename , new_file_name) :\n",
        "  with open(filename) as f:\n",
        "      edge_list = [[int(x) for x in line.split()] for line in f]\n",
        "\n",
        "      edges = len(edge_list)\n",
        "      nodes = 0\n",
        "\n",
        "      for x in edge_list :\n",
        "        nodes = max(nodes , max(x)) \n",
        "\n",
        "      print(filename)\n",
        "      print('Graph with ' + str(nodes) + ' nodes and ' + str(edges) + ' edges')\n",
        "\n",
        "      file1 = open(new_file_name,\"a\")\n",
        "      file1.write(str(nodes) + ' ' + str(edges) + '\\n')\n",
        "\n",
        "      for ed in edge_list :\n",
        "        file1.write(str(ed[0]) +  ' ' + str(ed[1]) + '\\n')\n",
        "\n",
        "      file1.close()\n",
        "\n",
        "parse_txt('Protein structure 1.txt' , 'protein_1.txt')\n",
        "parse_txt('Protein structure 2.txt' , 'protein_2.txt')\n",
        "parse_txt('Protein structure 3.txt' , 'protein_3.txt') "
      ],
      "execution_count": 2,
      "outputs": [
        {
          "output_type": "stream",
          "name": "stdout",
          "text": [
            "Protein structure 1.txt\n",
            "Graph with 95 nodes and 213 edges\n",
            "Protein structure 2.txt\n",
            "Graph with 53 nodes and 123 edges\n",
            "Protein structure 3.txt\n",
            "Graph with 99 nodes and 212 edges\n"
          ]
        }
      ]
    },
    {
      "cell_type": "markdown",
      "metadata": {
        "id": "BjfmAHsU55GO"
      },
      "source": [
        "For Yeast Dataset"
      ]
    },
    {
      "cell_type": "code",
      "metadata": {
        "colab": {
          "base_uri": "https://localhost:8080/"
        },
        "id": "K9Ao3h1v9PNe",
        "outputId": "fad52e1d-a855-4436-893b-35b4e1ac3834"
      },
      "source": [
        "def parse_net(filename, new_file_name) : \n",
        "  with open(filename) as f : \n",
        "    line = '2'\n",
        "\n",
        "    while line.startswith('*vertices') == False : \n",
        "      line = next(f)\n",
        "\n",
        "    nodes = int((line.split())[1])\n",
        "    \n",
        "    while line.startswith('*edges') == False : \n",
        "      line = next(f)\n",
        "\n",
        "    edges_str = f.read().split('\\n')\n",
        "    edges = len(edges_str) - 1\n",
        "\n",
        "    print(filename)\n",
        "    print('Graph with ' + str(nodes) + ' nodes and ' + str(edges) + ' edges')\n",
        "\n",
        "    file1 = open(new_file_name,\"a\")\n",
        "    file1.write(str(nodes) + ' ' + str(edges) + '\\n')\n",
        "\n",
        "    for line in edges_str : \n",
        "      edge = line.split()\n",
        "\n",
        "      if len(edge) > 0 : \n",
        "        file1.write(edge[0] +  ' ' +  edge[1] + '\\n')\n",
        "\n",
        "    file1.close()\n",
        "\n",
        "parse_net('YeastS.net','yeast.txt')"
      ],
      "execution_count": 5,
      "outputs": [
        {
          "output_type": "stream",
          "name": "stdout",
          "text": [
            "YeastS.net\n",
            "Graph with 2361 nodes and 7182 edges\n"
          ]
        }
      ]
    },
    {
      "cell_type": "markdown",
      "metadata": {
        "id": "4ZWINDzy_7f1"
      },
      "source": [
        "Save to Zip"
      ]
    },
    {
      "cell_type": "code",
      "metadata": {
        "colab": {
          "base_uri": "https://localhost:8080/"
        },
        "id": "aOE1IQTp_8YO",
        "outputId": "8e2741b3-99a9-4a4e-ba98-78d82babad6d"
      },
      "source": [
        "!zip -r /content/dataset.zip /content/"
      ],
      "execution_count": 6,
      "outputs": [
        {
          "output_type": "stream",
          "name": "stdout",
          "text": [
            "  adding: content/ (stored 0%)\n",
            "  adding: content/.config/ (stored 0%)\n",
            "  adding: content/.config/config_sentinel (stored 0%)\n",
            "  adding: content/.config/logs/ (stored 0%)\n",
            "  adding: content/.config/logs/2021.11.18/ (stored 0%)\n",
            "  adding: content/.config/logs/2021.11.18/14.34.49.152157.log (deflated 91%)\n",
            "  adding: content/.config/logs/2021.11.18/14.35.29.959577.log (deflated 86%)\n",
            "  adding: content/.config/logs/2021.11.18/14.35.09.738473.log (deflated 53%)\n",
            "  adding: content/.config/logs/2021.11.18/14.35.57.849518.log (deflated 54%)\n",
            "  adding: content/.config/logs/2021.11.18/14.35.36.918574.log (deflated 53%)\n",
            "  adding: content/.config/logs/2021.11.18/14.35.58.667492.log (deflated 53%)\n",
            "  adding: content/.config/active_config (stored 0%)\n",
            "  adding: content/.config/.last_opt_in_prompt.yaml (stored 0%)\n",
            "  adding: content/.config/.last_survey_prompt.yaml (stored 0%)\n",
            "  adding: content/.config/.last_update_check.json (deflated 24%)\n",
            "  adding: content/.config/configurations/ (stored 0%)\n",
            "  adding: content/.config/configurations/config_default (deflated 15%)\n",
            "  adding: content/.config/gce (stored 0%)\n",
            "  adding: content/dolphins.txt (deflated 61%)\n",
            "  adding: content/primary_school_contact.txt (deflated 76%)\n",
            "  adding: content/karate.txt (deflated 60%)\n",
            "  adding: content/dolphins.gml (deflated 88%)\n",
            "  adding: content/Protein structure 3.txt (deflated 71%)\n",
            "  adding: content/coauthorship_netscience.txt (deflated 69%)\n",
            "  adding: content/Primary_school_contact_network.gml (deflated 91%)\n",
            "  adding: content/power_grid.txt (deflated 64%)\n",
            "  adding: content/polbooks.gml (deflated 87%)\n",
            "  adding: content/Protein structure 2.txt (deflated 69%)\n",
            "  adding: content/netscience.gml (deflated 89%)\n",
            "  adding: content/human-disease.gml (deflated 88%)\n",
            "  adding: content/yeast.txt (deflated 67%)\n",
            "  adding: content/power.gml (deflated 90%)\n",
            "  adding: content/karate.gml (deflated 89%)\n",
            "  adding: content/copurchase_political_books.txt (deflated 65%)\n",
            "  adding: content/Protein structure 1.txt (deflated 70%)\n",
            "  adding: content/diseasome.txt (deflated 82%)\n",
            "  adding: content/YeastS.net (deflated 70%)\n",
            "  adding: content/protein_2.txt (deflated 63%)\n",
            "  adding: content/protein_1.txt (deflated 65%)\n",
            "  adding: content/protein_3.txt (deflated 65%)\n",
            "  adding: content/sample_data/ (stored 0%)\n",
            "  adding: content/sample_data/README.md (deflated 42%)\n",
            "  adding: content/sample_data/anscombe.json (deflated 83%)\n",
            "  adding: content/sample_data/california_housing_train.csv (deflated 79%)\n",
            "  adding: content/sample_data/mnist_test.csv (deflated 88%)\n",
            "  adding: content/sample_data/mnist_train_small.csv (deflated 88%)\n",
            "  adding: content/sample_data/california_housing_test.csv (deflated 76%)\n"
          ]
        }
      ]
    }
  ]
}