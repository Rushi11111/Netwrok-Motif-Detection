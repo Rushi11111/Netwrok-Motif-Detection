{
  "nbformat": 4,
  "nbformat_minor": 0,
  "metadata": {
    "colab": {
      "name": "CSB_Project.ipynb",
      "provenance": [],
      "collapsed_sections": [
        "dTyafAfhtY4q"
      ]
    },
    "kernelspec": {
      "display_name": "Python 3",
      "name": "python3"
    },
    "language_info": {
      "codemirror_mode": {
        "name": "ipython",
        "version": 3
      },
      "file_extension": ".py",
      "mimetype": "text/x-python",
      "name": "python",
      "nbconvert_exporter": "python",
      "pygments_lexer": "ipython3",
      "version": "3.8.5"
    }
  },
  "cells": [
    {
      "cell_type": "markdown",
      "metadata": {
        "id": "f-08SvYY_Okg"
      },
      "source": [
        "#Import Libraries"
      ]
    },
    {
      "cell_type": "code",
      "metadata": {
        "colab": {
          "base_uri": "https://localhost:8080/"
        },
        "id": "SAWqLr7dqI1c",
        "outputId": "77aa8c5f-10d2-4b16-c68f-9292af468875"
      },
      "source": [
        "!pip install pynauty"
      ],
      "execution_count": null,
      "outputs": [
        {
          "output_type": "stream",
          "name": "stdout",
          "text": [
            "Collecting pynauty\n",
            "  Downloading pynauty-1.0.2.tar.gz (1.9 MB)\n",
            "\u001b[?25l\r\u001b[K     |▏                               | 10 kB 27.2 MB/s eta 0:00:01\r\u001b[K     |▍                               | 20 kB 32.7 MB/s eta 0:00:01\r\u001b[K     |▌                               | 30 kB 35.3 MB/s eta 0:00:01\r\u001b[K     |▊                               | 40 kB 36.3 MB/s eta 0:00:01\r\u001b[K     |▉                               | 51 kB 37.9 MB/s eta 0:00:01\r\u001b[K     |█                               | 61 kB 34.2 MB/s eta 0:00:01\r\u001b[K     |█▎                              | 71 kB 30.9 MB/s eta 0:00:01\r\u001b[K     |█▍                              | 81 kB 28.7 MB/s eta 0:00:01\r\u001b[K     |█▋                              | 92 kB 30.3 MB/s eta 0:00:01\r\u001b[K     |█▊                              | 102 kB 32.1 MB/s eta 0:00:01\r\u001b[K     |██                              | 112 kB 32.1 MB/s eta 0:00:01\r\u001b[K     |██                              | 122 kB 32.1 MB/s eta 0:00:01\r\u001b[K     |██▎                             | 133 kB 32.1 MB/s eta 0:00:01\r\u001b[K     |██▌                             | 143 kB 32.1 MB/s eta 0:00:01\r\u001b[K     |██▋                             | 153 kB 32.1 MB/s eta 0:00:01\r\u001b[K     |██▉                             | 163 kB 32.1 MB/s eta 0:00:01\r\u001b[K     |███                             | 174 kB 32.1 MB/s eta 0:00:01\r\u001b[K     |███▏                            | 184 kB 32.1 MB/s eta 0:00:01\r\u001b[K     |███▍                            | 194 kB 32.1 MB/s eta 0:00:01\r\u001b[K     |███▌                            | 204 kB 32.1 MB/s eta 0:00:01\r\u001b[K     |███▊                            | 215 kB 32.1 MB/s eta 0:00:01\r\u001b[K     |███▉                            | 225 kB 32.1 MB/s eta 0:00:01\r\u001b[K     |████                            | 235 kB 32.1 MB/s eta 0:00:01\r\u001b[K     |████▏                           | 245 kB 32.1 MB/s eta 0:00:01\r\u001b[K     |████▍                           | 256 kB 32.1 MB/s eta 0:00:01\r\u001b[K     |████▋                           | 266 kB 32.1 MB/s eta 0:00:01\r\u001b[K     |████▊                           | 276 kB 32.1 MB/s eta 0:00:01\r\u001b[K     |█████                           | 286 kB 32.1 MB/s eta 0:00:01\r\u001b[K     |█████                           | 296 kB 32.1 MB/s eta 0:00:01\r\u001b[K     |█████▎                          | 307 kB 32.1 MB/s eta 0:00:01\r\u001b[K     |█████▌                          | 317 kB 32.1 MB/s eta 0:00:01\r\u001b[K     |█████▋                          | 327 kB 32.1 MB/s eta 0:00:01\r\u001b[K     |█████▉                          | 337 kB 32.1 MB/s eta 0:00:01\r\u001b[K     |██████                          | 348 kB 32.1 MB/s eta 0:00:01\r\u001b[K     |██████▏                         | 358 kB 32.1 MB/s eta 0:00:01\r\u001b[K     |██████▎                         | 368 kB 32.1 MB/s eta 0:00:01\r\u001b[K     |██████▌                         | 378 kB 32.1 MB/s eta 0:00:01\r\u001b[K     |██████▊                         | 389 kB 32.1 MB/s eta 0:00:01\r\u001b[K     |██████▉                         | 399 kB 32.1 MB/s eta 0:00:01\r\u001b[K     |███████                         | 409 kB 32.1 MB/s eta 0:00:01\r\u001b[K     |███████▏                        | 419 kB 32.1 MB/s eta 0:00:01\r\u001b[K     |███████▍                        | 430 kB 32.1 MB/s eta 0:00:01\r\u001b[K     |███████▋                        | 440 kB 32.1 MB/s eta 0:00:01\r\u001b[K     |███████▊                        | 450 kB 32.1 MB/s eta 0:00:01\r\u001b[K     |████████                        | 460 kB 32.1 MB/s eta 0:00:01\r\u001b[K     |████████                        | 471 kB 32.1 MB/s eta 0:00:01\r\u001b[K     |████████▎                       | 481 kB 32.1 MB/s eta 0:00:01\r\u001b[K     |████████▍                       | 491 kB 32.1 MB/s eta 0:00:01\r\u001b[K     |████████▋                       | 501 kB 32.1 MB/s eta 0:00:01\r\u001b[K     |████████▉                       | 512 kB 32.1 MB/s eta 0:00:01\r\u001b[K     |█████████                       | 522 kB 32.1 MB/s eta 0:00:01\r\u001b[K     |█████████▏                      | 532 kB 32.1 MB/s eta 0:00:01\r\u001b[K     |█████████▎                      | 542 kB 32.1 MB/s eta 0:00:01\r\u001b[K     |█████████▌                      | 552 kB 32.1 MB/s eta 0:00:01\r\u001b[K     |█████████▊                      | 563 kB 32.1 MB/s eta 0:00:01\r\u001b[K     |█████████▉                      | 573 kB 32.1 MB/s eta 0:00:01\r\u001b[K     |██████████                      | 583 kB 32.1 MB/s eta 0:00:01\r\u001b[K     |██████████▏                     | 593 kB 32.1 MB/s eta 0:00:01\r\u001b[K     |██████████▍                     | 604 kB 32.1 MB/s eta 0:00:01\r\u001b[K     |██████████▌                     | 614 kB 32.1 MB/s eta 0:00:01\r\u001b[K     |██████████▊                     | 624 kB 32.1 MB/s eta 0:00:01\r\u001b[K     |███████████                     | 634 kB 32.1 MB/s eta 0:00:01\r\u001b[K     |███████████                     | 645 kB 32.1 MB/s eta 0:00:01\r\u001b[K     |███████████▎                    | 655 kB 32.1 MB/s eta 0:00:01\r\u001b[K     |███████████▍                    | 665 kB 32.1 MB/s eta 0:00:01\r\u001b[K     |███████████▋                    | 675 kB 32.1 MB/s eta 0:00:01\r\u001b[K     |███████████▉                    | 686 kB 32.1 MB/s eta 0:00:01\r\u001b[K     |████████████                    | 696 kB 32.1 MB/s eta 0:00:01\r\u001b[K     |████████████▏                   | 706 kB 32.1 MB/s eta 0:00:01\r\u001b[K     |████████████▎                   | 716 kB 32.1 MB/s eta 0:00:01\r\u001b[K     |████████████▌                   | 727 kB 32.1 MB/s eta 0:00:01\r\u001b[K     |████████████▋                   | 737 kB 32.1 MB/s eta 0:00:01\r\u001b[K     |████████████▉                   | 747 kB 32.1 MB/s eta 0:00:01\r\u001b[K     |█████████████                   | 757 kB 32.1 MB/s eta 0:00:01\r\u001b[K     |█████████████▏                  | 768 kB 32.1 MB/s eta 0:00:01\r\u001b[K     |█████████████▍                  | 778 kB 32.1 MB/s eta 0:00:01\r\u001b[K     |█████████████▌                  | 788 kB 32.1 MB/s eta 0:00:01\r\u001b[K     |█████████████▊                  | 798 kB 32.1 MB/s eta 0:00:01\r\u001b[K     |██████████████                  | 808 kB 32.1 MB/s eta 0:00:01\r\u001b[K     |██████████████                  | 819 kB 32.1 MB/s eta 0:00:01\r\u001b[K     |██████████████▎                 | 829 kB 32.1 MB/s eta 0:00:01\r\u001b[K     |██████████████▍                 | 839 kB 32.1 MB/s eta 0:00:01\r\u001b[K     |██████████████▋                 | 849 kB 32.1 MB/s eta 0:00:01\r\u001b[K     |██████████████▊                 | 860 kB 32.1 MB/s eta 0:00:01\r\u001b[K     |███████████████                 | 870 kB 32.1 MB/s eta 0:00:01\r\u001b[K     |███████████████▏                | 880 kB 32.1 MB/s eta 0:00:01\r\u001b[K     |███████████████▎                | 890 kB 32.1 MB/s eta 0:00:01\r\u001b[K     |███████████████▌                | 901 kB 32.1 MB/s eta 0:00:01\r\u001b[K     |███████████████▋                | 911 kB 32.1 MB/s eta 0:00:01\r\u001b[K     |███████████████▉                | 921 kB 32.1 MB/s eta 0:00:01\r\u001b[K     |████████████████                | 931 kB 32.1 MB/s eta 0:00:01\r\u001b[K     |████████████████▏               | 942 kB 32.1 MB/s eta 0:00:01\r\u001b[K     |████████████████▍               | 952 kB 32.1 MB/s eta 0:00:01\r\u001b[K     |████████████████▌               | 962 kB 32.1 MB/s eta 0:00:01\r\u001b[K     |████████████████▊               | 972 kB 32.1 MB/s eta 0:00:01\r\u001b[K     |████████████████▉               | 983 kB 32.1 MB/s eta 0:00:01\r\u001b[K     |█████████████████               | 993 kB 32.1 MB/s eta 0:00:01\r\u001b[K     |█████████████████▎              | 1.0 MB 32.1 MB/s eta 0:00:01\r\u001b[K     |█████████████████▍              | 1.0 MB 32.1 MB/s eta 0:00:01\r\u001b[K     |█████████████████▋              | 1.0 MB 32.1 MB/s eta 0:00:01\r\u001b[K     |█████████████████▊              | 1.0 MB 32.1 MB/s eta 0:00:01\r\u001b[K     |██████████████████              | 1.0 MB 32.1 MB/s eta 0:00:01\r\u001b[K     |██████████████████▏             | 1.1 MB 32.1 MB/s eta 0:00:01\r\u001b[K     |██████████████████▎             | 1.1 MB 32.1 MB/s eta 0:00:01\r\u001b[K     |██████████████████▌             | 1.1 MB 32.1 MB/s eta 0:00:01\r\u001b[K     |██████████████████▋             | 1.1 MB 32.1 MB/s eta 0:00:01\r\u001b[K     |██████████████████▉             | 1.1 MB 32.1 MB/s eta 0:00:01\r\u001b[K     |███████████████████             | 1.1 MB 32.1 MB/s eta 0:00:01\r\u001b[K     |███████████████████▏            | 1.1 MB 32.1 MB/s eta 0:00:01\r\u001b[K     |███████████████████▍            | 1.1 MB 32.1 MB/s eta 0:00:01\r\u001b[K     |███████████████████▌            | 1.1 MB 32.1 MB/s eta 0:00:01\r\u001b[K     |███████████████████▊            | 1.1 MB 32.1 MB/s eta 0:00:01\r\u001b[K     |███████████████████▉            | 1.2 MB 32.1 MB/s eta 0:00:01\r\u001b[K     |████████████████████            | 1.2 MB 32.1 MB/s eta 0:00:01\r\u001b[K     |████████████████████▎           | 1.2 MB 32.1 MB/s eta 0:00:01\r\u001b[K     |████████████████████▍           | 1.2 MB 32.1 MB/s eta 0:00:01\r\u001b[K     |████████████████████▋           | 1.2 MB 32.1 MB/s eta 0:00:01\r\u001b[K     |████████████████████▊           | 1.2 MB 32.1 MB/s eta 0:00:01\r\u001b[K     |█████████████████████           | 1.2 MB 32.1 MB/s eta 0:00:01\r\u001b[K     |█████████████████████           | 1.2 MB 32.1 MB/s eta 0:00:01\r\u001b[K     |█████████████████████▎          | 1.2 MB 32.1 MB/s eta 0:00:01\r\u001b[K     |█████████████████████▌          | 1.2 MB 32.1 MB/s eta 0:00:01\r\u001b[K     |█████████████████████▋          | 1.3 MB 32.1 MB/s eta 0:00:01\r\u001b[K     |█████████████████████▉          | 1.3 MB 32.1 MB/s eta 0:00:01\r\u001b[K     |██████████████████████          | 1.3 MB 32.1 MB/s eta 0:00:01\r\u001b[K     |██████████████████████▏         | 1.3 MB 32.1 MB/s eta 0:00:01\r\u001b[K     |██████████████████████▍         | 1.3 MB 32.1 MB/s eta 0:00:01\r\u001b[K     |██████████████████████▌         | 1.3 MB 32.1 MB/s eta 0:00:01\r\u001b[K     |██████████████████████▊         | 1.3 MB 32.1 MB/s eta 0:00:01\r\u001b[K     |██████████████████████▉         | 1.3 MB 32.1 MB/s eta 0:00:01\r\u001b[K     |███████████████████████         | 1.3 MB 32.1 MB/s eta 0:00:01\r\u001b[K     |███████████████████████▏        | 1.4 MB 32.1 MB/s eta 0:00:01\r\u001b[K     |███████████████████████▍        | 1.4 MB 32.1 MB/s eta 0:00:01\r\u001b[K     |███████████████████████▋        | 1.4 MB 32.1 MB/s eta 0:00:01\r\u001b[K     |███████████████████████▊        | 1.4 MB 32.1 MB/s eta 0:00:01\r\u001b[K     |████████████████████████        | 1.4 MB 32.1 MB/s eta 0:00:01\r\u001b[K     |████████████████████████        | 1.4 MB 32.1 MB/s eta 0:00:01\r\u001b[K     |████████████████████████▎       | 1.4 MB 32.1 MB/s eta 0:00:01\r\u001b[K     |████████████████████████▌       | 1.4 MB 32.1 MB/s eta 0:00:01\r\u001b[K     |████████████████████████▋       | 1.4 MB 32.1 MB/s eta 0:00:01\r\u001b[K     |████████████████████████▉       | 1.4 MB 32.1 MB/s eta 0:00:01\r\u001b[K     |█████████████████████████       | 1.5 MB 32.1 MB/s eta 0:00:01\r\u001b[K     |█████████████████████████▏      | 1.5 MB 32.1 MB/s eta 0:00:01\r\u001b[K     |█████████████████████████▎      | 1.5 MB 32.1 MB/s eta 0:00:01\r\u001b[K     |█████████████████████████▌      | 1.5 MB 32.1 MB/s eta 0:00:01\r\u001b[K     |█████████████████████████▊      | 1.5 MB 32.1 MB/s eta 0:00:01\r\u001b[K     |█████████████████████████▉      | 1.5 MB 32.1 MB/s eta 0:00:01\r\u001b[K     |██████████████████████████      | 1.5 MB 32.1 MB/s eta 0:00:01\r\u001b[K     |██████████████████████████▏     | 1.5 MB 32.1 MB/s eta 0:00:01\r\u001b[K     |██████████████████████████▍     | 1.5 MB 32.1 MB/s eta 0:00:01\r\u001b[K     |██████████████████████████▋     | 1.5 MB 32.1 MB/s eta 0:00:01\r\u001b[K     |██████████████████████████▊     | 1.6 MB 32.1 MB/s eta 0:00:01\r\u001b[K     |███████████████████████████     | 1.6 MB 32.1 MB/s eta 0:00:01\r\u001b[K     |███████████████████████████     | 1.6 MB 32.1 MB/s eta 0:00:01\r\u001b[K     |███████████████████████████▎    | 1.6 MB 32.1 MB/s eta 0:00:01\r\u001b[K     |███████████████████████████▍    | 1.6 MB 32.1 MB/s eta 0:00:01\r\u001b[K     |███████████████████████████▋    | 1.6 MB 32.1 MB/s eta 0:00:01\r\u001b[K     |███████████████████████████▉    | 1.6 MB 32.1 MB/s eta 0:00:01\r\u001b[K     |████████████████████████████    | 1.6 MB 32.1 MB/s eta 0:00:01\r\u001b[K     |████████████████████████████▏   | 1.6 MB 32.1 MB/s eta 0:00:01\r\u001b[K     |████████████████████████████▎   | 1.6 MB 32.1 MB/s eta 0:00:01\r\u001b[K     |████████████████████████████▌   | 1.7 MB 32.1 MB/s eta 0:00:01\r\u001b[K     |████████████████████████████▊   | 1.7 MB 32.1 MB/s eta 0:00:01\r\u001b[K     |████████████████████████████▉   | 1.7 MB 32.1 MB/s eta 0:00:01\r\u001b[K     |█████████████████████████████   | 1.7 MB 32.1 MB/s eta 0:00:01\r\u001b[K     |█████████████████████████████▏  | 1.7 MB 32.1 MB/s eta 0:00:01\r\u001b[K     |█████████████████████████████▍  | 1.7 MB 32.1 MB/s eta 0:00:01\r\u001b[K     |█████████████████████████████▌  | 1.7 MB 32.1 MB/s eta 0:00:01\r\u001b[K     |█████████████████████████████▊  | 1.7 MB 32.1 MB/s eta 0:00:01\r\u001b[K     |██████████████████████████████  | 1.7 MB 32.1 MB/s eta 0:00:01\r\u001b[K     |██████████████████████████████  | 1.8 MB 32.1 MB/s eta 0:00:01\r\u001b[K     |██████████████████████████████▎ | 1.8 MB 32.1 MB/s eta 0:00:01\r\u001b[K     |██████████████████████████████▍ | 1.8 MB 32.1 MB/s eta 0:00:01\r\u001b[K     |██████████████████████████████▋ | 1.8 MB 32.1 MB/s eta 0:00:01\r\u001b[K     |██████████████████████████████▉ | 1.8 MB 32.1 MB/s eta 0:00:01\r\u001b[K     |███████████████████████████████ | 1.8 MB 32.1 MB/s eta 0:00:01\r\u001b[K     |███████████████████████████████▏| 1.8 MB 32.1 MB/s eta 0:00:01\r\u001b[K     |███████████████████████████████▎| 1.8 MB 32.1 MB/s eta 0:00:01\r\u001b[K     |███████████████████████████████▌| 1.8 MB 32.1 MB/s eta 0:00:01\r\u001b[K     |███████████████████████████████▋| 1.8 MB 32.1 MB/s eta 0:00:01\r\u001b[K     |███████████████████████████████▉| 1.9 MB 32.1 MB/s eta 0:00:01\r\u001b[K     |████████████████████████████████| 1.9 MB 32.1 MB/s \n",
            "\u001b[?25hBuilding wheels for collected packages: pynauty\n",
            "  Building wheel for pynauty (setup.py) ... \u001b[?25l\u001b[?25hdone\n",
            "  Created wheel for pynauty: filename=pynauty-1.0.2-cp37-cp37m-linux_x86_64.whl size=319208 sha256=57ebdd823939213dceff4ff778a63bb414d4f19e2a9d32d95906a7caa9102c16\n",
            "  Stored in directory: /root/.cache/pip/wheels/62/5f/2b/1f298d1b74899fc4bba74440e892a178ce76d0226856e5896d\n",
            "Successfully built pynauty\n",
            "Installing collected packages: pynauty\n",
            "Successfully installed pynauty-1.0.2\n"
          ]
        }
      ]
    },
    {
      "cell_type": "code",
      "metadata": {
        "id": "ABjBY9uIpVkp"
      },
      "source": [
        "import networkx as nx\n",
        "import copy\n",
        "import random\n",
        "import itertools\n",
        "import matplotlib.pyplot as plt\n",
        "import numpy as np\n",
        "import pynauty as pyn"
      ],
      "execution_count": null,
      "outputs": []
    },
    {
      "cell_type": "markdown",
      "metadata": {
        "id": "7QJ67GS6_MCS"
      },
      "source": [
        "#Reading File"
      ]
    },
    {
      "cell_type": "code",
      "metadata": {
        "id": "8wNWGtMajLg2"
      },
      "source": [
        "def saveGmlFromTxt(name,path):\n",
        "    file = open(path)\n",
        "    G = nx.DiGraph()\n",
        "    for line in file.readlines():\n",
        "        x,y = map(int,list(line.split()))\n",
        "        if(x == y):\n",
        "            continue\n",
        "        G.add_edge(x,y)\n",
        "    \n",
        "    nx.write_gml(G,name)\n",
        "\n",
        "saveGmlFromTxt('littleRock.gml','/content/out.maayan-foodweb')"
      ],
      "execution_count": null,
      "outputs": []
    },
    {
      "cell_type": "code",
      "metadata": {
        "id": "Kz7ZAlu2iTct"
      },
      "source": [
        "def loadFile(path, Directed):\n",
        "    if(Directed == False):\n",
        "        G = nx.read_gml(path)\n",
        "    else:\n",
        "        G = nx.read_gml(path)\n",
        "    return G"
      ],
      "execution_count": null,
      "outputs": []
    },
    {
      "cell_type": "markdown",
      "metadata": {
        "id": "d1qoJ0Tj_vh9"
      },
      "source": [
        "#Function to Generate Motifs with Given Size"
      ]
    },
    {
      "cell_type": "code",
      "metadata": {
        "id": "t99cNG3x_0hw"
      },
      "source": [
        "def getMotifs(k, Directed):\n",
        "  if k == 1 :\n",
        "    if Directed :\n",
        "      G = nx.DiGraph()\n",
        "      G.add_node(0)\n",
        "      return [G]\n",
        "    else :\n",
        "      G = nx.Graph()\n",
        "      G.add_node(0)\n",
        "      return [G]\n",
        "  else : \n",
        "    smaller_motifs = getMotifs(k - 1,Directed) \n",
        "   \n",
        "    edges = k - 1 \n",
        "    motifs = []\n",
        "    motifs_degree = []\n",
        "\n",
        "    if Directed : \n",
        "      edges *= 2\n",
        "\n",
        "    for g in smaller_motifs :\n",
        "      for mask in range(2**edges) :\n",
        "        if mask == 0 :\n",
        "          continue\n",
        "\n",
        "        new_g = g.copy()\n",
        "        \n",
        "        for node in range(edges) : \n",
        "          if (mask & (1 << node)) > 0 :  \n",
        "            if Directed : \n",
        "              if node >= k - 1 :\n",
        "                new_g.add_edge(k - 1,node - (k - 1))\n",
        "              else :\n",
        "                new_g.add_edge(node,k - 1)\n",
        "            else : \n",
        "              new_g.add_edge(node,k - 1)\n",
        "\n",
        "        #check if new_g is isomorphis to all existing motifs\n",
        "        motif_found = False\n",
        "        cur_degree = sorted([d for n, d in new_g.degree()])\n",
        "\n",
        "        for i,motif in enumerate(motifs) : \n",
        "          if cur_degree != motifs_degree[i] :\n",
        "            continue \n",
        "\n",
        "          if nx.is_isomorphic(motif , new_g) : \n",
        "            motif_found = True\n",
        "            break\n",
        "\n",
        "        if motif_found == False : \n",
        "          motifs.append(new_g)\n",
        "          motifs_degree.append(cur_degree)\n",
        "\n",
        "    return motifs"
      ],
      "execution_count": null,
      "outputs": []
    },
    {
      "cell_type": "markdown",
      "metadata": {
        "id": "QFmU36zb_S7T"
      },
      "source": [
        "#ESU & Rand-ESU Functions"
      ]
    },
    {
      "cell_type": "code",
      "metadata": {
        "id": "hfKAE_jze-Ac"
      },
      "source": [
        "def EnumerateSubgraphs(G,k,q = 1,motifFind = 0):\n",
        "    vertexList = list(G.nodes)\n",
        "    for v in vertexList:\n",
        "        Vext = set(filter(lambda x: x>v, list(G[v])))\n",
        "        Vsub = set({v})\n",
        "        neighborHood = set(filter(lambda x: x > v, set(G[v])))\n",
        "        p = q**(1/k)\n",
        "        extendSubgraph(G,Vsub,Vext,neighborHood,v,k,p,motifFind)\n",
        "\n",
        "def extendSubgraph(G,Vsub, Vext, neighborHood, v, k, p , motifFind = 0):\n",
        "    if(Vsub is None):\n",
        "        return \n",
        "    if(len(Vsub) == k):\n",
        "        cnt[0] += 1\n",
        "        if(motifFind == 1):\n",
        "            subG.append(Vsub)\n",
        "        return\n",
        "    while(len(Vext) != 0):\n",
        "        w = Vext.pop()\n",
        "        if(random.uniform(0,1) <= p):\n",
        "            wNeighbor = set(filter(lambda x: x > v and x != w, set(G[w])))\n",
        "            Nexcl = wNeighbor.difference(neighborHood)\n",
        "\n",
        "            if(Nexcl is not None):\n",
        "                Vext_dash = Vext.union(Nexcl)\n",
        "            else:\n",
        "                Vext_dash = copy.copy(Vext)\n",
        "\n",
        "            if(wNeighbor is not None):\n",
        "                neighborHood_dash = neighborHood.union(wNeighbor)\n",
        "            else:\n",
        "                neighborHood_dash = copy.copy(neighborHood)\n",
        "\n",
        "            Vsub_dash = Vsub.union({w})\n",
        "            extendSubgraph(G,Vsub_dash,Vext_dash,neighborHood_dash,v,k, p,motifFind)\n",
        "\n",
        "    return "
      ],
      "execution_count": null,
      "outputs": []
    },
    {
      "cell_type": "markdown",
      "metadata": {
        "id": "sAUAsbGU_bEx"
      },
      "source": [
        "#Functions for Counting Motifs"
      ]
    },
    {
      "cell_type": "code",
      "metadata": {
        "id": "NJrM7fsdM2xK"
      },
      "source": [
        "def canonical(G):\n",
        "    num_nodes = G.number_of_nodes()\n",
        "    nodes = sorted(list(G.nodes))\n",
        "    nk = {}\n",
        "    for i in range(len(nodes)):\n",
        "        nk[nodes[i]] = i\n",
        "\n",
        "    g = pyn.Graph(num_nodes,directed = Directed)\n",
        "    for x in list(G.nodes):\n",
        "        tmp = [nk[y] for y in G[x]]\n",
        "        g.connect_vertex(nk[x],tmp)\n",
        "    return pyn.certificate(g)\n",
        "\n",
        "\n",
        "from joblib import Parallel, delayed\n",
        "def countMotifs(G,subG,motifs):\n",
        "    binaries = []\n",
        "    indx = {}\n",
        "\n",
        "    i = 0\n",
        "    for mo in motifs:\n",
        "        px = canonical(mo)\n",
        "        binaries.append(px)\n",
        "        indx[px] = i\n",
        "        i += 1\n",
        "\n",
        "    # for x in subG:\n",
        "    def process(low,high):\n",
        "        cnts = [0 for x in range(len(motifs))]\n",
        "        for i in range(low,high + 1):\n",
        "            G_dash = G.subgraph(subG[i])\n",
        "            px = canonical(G_dash)\n",
        "            val = indx.get(px)\n",
        "            if(val is not None):\n",
        "                cnts[val] += 1\n",
        "        return cnts\n",
        "\n",
        "    ranges = []\n",
        "    ln = len(subG)//4\n",
        "    rem = len(subG)%4\n",
        "    last = 0\n",
        "    for job in range(4):\n",
        "        if(job == 3):\n",
        "            ranges.append((last,last + ln - 1 + rem))\n",
        "        else:\n",
        "            ranges.append((last, last + ln - 1))\n",
        "        last = last + ln\n",
        "\n",
        "    results = Parallel(n_jobs=4)(delayed(process)(rr[0],rr[1]) for rr in ranges)\n",
        "    toRet = np.sum(results,axis = 0)\n",
        "    return toRet"
      ],
      "execution_count": null,
      "outputs": []
    },
    {
      "cell_type": "markdown",
      "metadata": {
        "id": "jwc3s0j3_h45"
      },
      "source": [
        "#Function for Getting Number of Motifs "
      ]
    },
    {
      "cell_type": "code",
      "metadata": {
        "id": "GjplMs4a71Rg"
      },
      "source": [
        "# all motifs must be of same size, function returns expected number of motifs\n",
        "import multiprocessing\n",
        "from joblib import Parallel, delayed\n",
        "from tqdm import tqdm\n",
        "\n",
        "def findExpectedMotifOccurences(G,motifSize,motifs,prob, exp):\n",
        "    global cnt\n",
        "    cnt = [0]\n",
        "    if(Directed):\n",
        "        Gu = G.to_undirected()\n",
        "    else:\n",
        "        Gu = G\n",
        "    \n",
        "    EnumerateSubgraphs(Gu,motifSize,motifFind=0)\n",
        "    uniCnts = []\n",
        "    uniLen = cnt[0]\n",
        "\n",
        "    for exp in range(exp):\n",
        "        subG.clear()\n",
        "        cnt = [0]\n",
        "        EnumerateSubgraphs(Gu,motifSize,prob,motifFind=1)\n",
        "\n",
        "        lenSub = len(subG)\n",
        "        cnts = countMotifs(G,subG,motifs)\n",
        "        cnts = [x/lenSub * uniLen for x in cnts]\n",
        "        uniCnts.append(cnts)\n",
        "\n",
        "    uniCnts = np.array(uniCnts)\n",
        "\n",
        "    meanOccurences = np.mean(uniCnts, axis=0)\n",
        "    return meanOccurences\n"
      ],
      "execution_count": null,
      "outputs": []
    },
    {
      "cell_type": "markdown",
      "metadata": {
        "id": "cq2uVNFa_qgZ"
      },
      "source": [
        "# Main"
      ]
    },
    {
      "cell_type": "code",
      "metadata": {
        "id": "QV9AVwFFi8xE"
      },
      "source": [
        "# G can be Directed or undirecetrd\n",
        "Directed = True\n",
        "G = loadFile('/content/littleRock.gml', Directed)"
      ],
      "execution_count": null,
      "outputs": []
    },
    {
      "cell_type": "code",
      "metadata": {
        "id": "2GTPwlN3xQ_w"
      },
      "source": [
        "#Define Motif\n",
        "motifSize = 4\n",
        "motif = nx.DiGraph()\n",
        "motif.add_edge(1,4)\n",
        "motif.add_edge(1,3)\n",
        "motif.add_edge(3,2)\n",
        "motif.add_edge(4,2)\n",
        "\n",
        "# motif1 = nx.DiGraph()\n",
        "# motif1.add_edge(1,3)\n",
        "# motif1.add_edge(1,4)\n",
        "# motif1.add_edge(3,2)\n",
        "# motif1.add_edge(4,2)\n",
        "\n",
        "motifs = [motif]\n",
        "\n",
        "#Get Real count\n",
        "subG = []\n",
        "sampling = 1\n",
        "exp = 1\n",
        "\n",
        "ans = findExpectedMotifOccurences(G, motifSize, motifs, sampling,exp)\n",
        "\n",
        "#get randomised graph count\n",
        "arr = []\n",
        "for numGraphs in range(10):\n",
        "    if(Directed):\n",
        "        kin = list(d for n, d in G.in_degree())\n",
        "        kout = list(d for n, d in G.out_degree())\n",
        "        Gr = nx.directed_configuration_model(kin,kout,create_using=nx.DiGraph)\n",
        "\n",
        "        subG = []\n",
        "        tmp = findExpectedMotifOccurences(Gr, motifSize, motifs, sampling,exp)\n",
        "        arr.append(tmp)\n",
        "    else:\n",
        "        k = list(d for n, d in G.degree())\n",
        "        Gr = nx.configuration_model(k,create_using=nx.Graph)\n",
        "\n",
        "        subG = []\n",
        "        tmp = findExpectedMotifOccurences(Gr, motifSize, motifs, sampling,exp)\n",
        "        arr.append(tmp)\n",
        "\n",
        "arr = np.array(arr)\n",
        "\n",
        "#get mean and sd\n",
        "mn = np.mean(arr,axis=0)\n",
        "sd = np.std(arr,axis = 0)\n",
        "\n",
        "z_score = (ans - mn)/sd"
      ],
      "execution_count": null,
      "outputs": []
    },
    {
      "cell_type": "code",
      "metadata": {
        "colab": {
          "base_uri": "https://localhost:8080/"
        },
        "id": "DdXy7HGfNmPT",
        "outputId": "7eca27f9-d62f-4c32-e715-853013ebb196"
      },
      "source": [
        "print(mn)\n",
        "print(sd)\n",
        "print(ans)\n",
        "print(z_score)\n"
      ],
      "execution_count": null,
      "outputs": [
        {
          "output_type": "stream",
          "name": "stdout",
          "text": [
            "[960.9]\n",
            "[91.18163192]\n",
            "[65123.]\n",
            "[11.08885615]\n"
          ]
        },
        {
          "output_type": "execute_result",
          "data": {
            "text/plain": [
              "2434136"
            ]
          },
          "metadata": {},
          "execution_count": 394
        }
      ]
    },
    {
      "cell_type": "markdown",
      "metadata": {
        "id": "dTyafAfhtY4q"
      },
      "source": [
        "# Rough"
      ]
    },
    {
      "cell_type": "code",
      "metadata": {
        "id": "GxrUlJfX6x3I"
      },
      "source": [
        "\n",
        "# real_ans = [1026725,816765,131156,15004,11772,2576]\n",
        "# # real_ans = np.array(real_ans)/sum(real_ans)\n",
        "# ans1 = sorted(ans, reverse = True)\n",
        "\n",
        "# for i in range(6):\n",
        "#     print((ans1[i] - real_ans[i])/real_ans[i] * 100)"
      ],
      "execution_count": null,
      "outputs": []
    },
    {
      "cell_type": "code",
      "metadata": {
        "id": "shcsi1rUN0IK"
      },
      "source": [
        "\n",
        "# real_ans = [23279327,12013183,7294043,1672420,1543841,1290930,733663,422212,267279,97449,50722,39493,35808,32895,27981,22581,21043,11154,7834,4906,1711]\n",
        "# real_ans = np.array(real_ans)/sum(real_ans)\n",
        "# ans1 = sorted(ans, reverse = True)\n",
        "# for i in range(21):\n",
        "#     print((ans1[i] - real_ans[i])/real_ans[i] * 100)"
      ],
      "execution_count": null,
      "outputs": []
    },
    {
      "cell_type": "code",
      "metadata": {
        "id": "htbazq7KE9jj"
      },
      "source": [
        ""
      ],
      "execution_count": null,
      "outputs": []
    }
  ]
}